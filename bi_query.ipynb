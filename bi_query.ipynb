{
 "cells": [
  {
   "cell_type": "code",
   "execution_count": 1,
   "metadata": {
    "collapsed": true
   },
   "outputs": [],
   "source": [
    "# Import dependencies# Impor \n",
    "import sqlite3\n",
    "import pandas as pd"
   ]
  },
  {
   "cell_type": "code",
   "execution_count": 2,
   "metadata": {
    "collapsed": true
   },
   "outputs": [],
   "source": [
    "# Connect to database\n",
    "conn = sqlite3.connect('database.sqlite')"
   ]
  },
  {
   "cell_type": "code",
   "execution_count": 3,
   "metadata": {},
   "outputs": [
    {
     "data": {
      "text/html": [
       "<div>\n",
       "<style>\n",
       "    .dataframe thead tr:only-child th {\n",
       "        text-align: right;\n",
       "    }\n",
       "\n",
       "    .dataframe thead th {\n",
       "        text-align: left;\n",
       "    }\n",
       "\n",
       "    .dataframe tbody tr th {\n",
       "        vertical-align: top;\n",
       "    }\n",
       "</style>\n",
       "<table border=\"1\" class=\"dataframe\">\n",
       "  <thead>\n",
       "    <tr style=\"text-align: right;\">\n",
       "      <th></th>\n",
       "      <th>student_name</th>\n",
       "      <th>gender</th>\n",
       "      <th>grade</th>\n",
       "      <th>school_name</th>\n",
       "      <th>type</th>\n",
       "      <th>reading_score</th>\n",
       "      <th>math_score</th>\n",
       "    </tr>\n",
       "  </thead>\n",
       "  <tbody>\n",
       "    <tr>\n",
       "      <th>0</th>\n",
       "      <td>Kevin Logan</td>\n",
       "      <td>M</td>\n",
       "      <td>9th</td>\n",
       "      <td>Stewart High School</td>\n",
       "      <td>Charter</td>\n",
       "      <td>93</td>\n",
       "      <td>98</td>\n",
       "    </tr>\n",
       "    <tr>\n",
       "      <th>1</th>\n",
       "      <td>Earl Bush</td>\n",
       "      <td>M</td>\n",
       "      <td>10th</td>\n",
       "      <td>Stewart High School</td>\n",
       "      <td>Charter</td>\n",
       "      <td>99</td>\n",
       "      <td>92</td>\n",
       "    </tr>\n",
       "    <tr>\n",
       "      <th>2</th>\n",
       "      <td>Jeffrey Williamson</td>\n",
       "      <td>M</td>\n",
       "      <td>10th</td>\n",
       "      <td>Stewart High School</td>\n",
       "      <td>Charter</td>\n",
       "      <td>98</td>\n",
       "      <td>98</td>\n",
       "    </tr>\n",
       "    <tr>\n",
       "      <th>3</th>\n",
       "      <td>Karen Dean</td>\n",
       "      <td>F</td>\n",
       "      <td>10th</td>\n",
       "      <td>Stewart High School</td>\n",
       "      <td>Charter</td>\n",
       "      <td>97</td>\n",
       "      <td>77</td>\n",
       "    </tr>\n",
       "    <tr>\n",
       "      <th>4</th>\n",
       "      <td>Rebecca Reyes</td>\n",
       "      <td>F</td>\n",
       "      <td>11th</td>\n",
       "      <td>Stewart High School</td>\n",
       "      <td>Charter</td>\n",
       "      <td>89</td>\n",
       "      <td>87</td>\n",
       "    </tr>\n",
       "  </tbody>\n",
       "</table>\n",
       "</div>"
      ],
      "text/plain": [
       "         student_name gender grade          school_name     type  \\\n",
       "0         Kevin Logan      M   9th  Stewart High School  Charter   \n",
       "1           Earl Bush      M  10th  Stewart High School  Charter   \n",
       "2  Jeffrey Williamson      M  10th  Stewart High School  Charter   \n",
       "3          Karen Dean      F  10th  Stewart High School  Charter   \n",
       "4       Rebecca Reyes      F  11th  Stewart High School  Charter   \n",
       "\n",
       "   reading_score  math_score  \n",
       "0             93          98  \n",
       "1             99          92  \n",
       "2             98          98  \n",
       "3             97          77  \n",
       "4             89          87  "
      ]
     },
     "execution_count": 3,
     "metadata": {},
     "output_type": "execute_result"
    }
   ],
   "source": [
    "# Read sqlite query results into a pandas DataFrame\n",
    "bi_df = pd.read_sql_query(\"\"\"\n",
    "\n",
    "SELECT \n",
    "\n",
    "student_name,\n",
    "gender,\n",
    "grade,\n",
    "school_name,\n",
    "type,\n",
    "reading_score,\n",
    "math_score\n",
    "\n",
    "FROM students_table \n",
    "\n",
    "INNER JOIN schools_table \n",
    "\n",
    "USING (School_name)\n",
    "\n",
    ";\n",
    "\n",
    "\"\"\",conn)\n",
    "\n",
    "bi_df.head()"
   ]
  },
  {
   "cell_type": "code",
   "execution_count": 4,
   "metadata": {
    "collapsed": true
   },
   "outputs": [],
   "source": [
    "# Save clean data to csv# Save  \n",
    "bi_df.to_csv('clean_data/bi_data.csv', index = False)"
   ]
  }
 ],
 "metadata": {
  "kernelspec": {
   "display_name": "Python 3",
   "language": "python",
   "name": "python3"
  },
  "language_info": {
   "codemirror_mode": {
    "name": "ipython",
    "version": 3
   },
   "file_extension": ".py",
   "mimetype": "text/x-python",
   "name": "python",
   "nbconvert_exporter": "python",
   "pygments_lexer": "ipython3",
   "version": "3.6.3"
  }
 },
 "nbformat": 4,
 "nbformat_minor": 2
}
